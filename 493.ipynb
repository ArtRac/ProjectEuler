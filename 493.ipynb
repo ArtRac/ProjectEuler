{
  "nbformat": 4,
  "nbformat_minor": 0,
  "metadata": {
    "colab": {
      "provenance": [],
      "authorship_tag": "ABX9TyOAmuFvkKDCZq21GPef1/5+",
      "include_colab_link": true
    },
    "kernelspec": {
      "name": "python3",
      "display_name": "Python 3"
    },
    "language_info": {
      "name": "python"
    }
  },
  "cells": [
    {
      "cell_type": "markdown",
      "metadata": {
        "id": "view-in-github",
        "colab_type": "text"
      },
      "source": [
        "<a href=\"https://colab.research.google.com/github/ArtRac/ProjectEuler/blob/493/493.ipynb\" target=\"_parent\"><img src=\"https://colab.research.google.com/assets/colab-badge.svg\" alt=\"Open In Colab\"/></a>"
      ]
    },
    {
      "cell_type": "markdown",
      "source": [
        "https://projecteuler.net/problem=493\n",
        "\n",
        "70 coloured balls are placed in an urn, 10 for each of the seven rainbow colours.  \n",
        "What is the expected number of distinct colours in 20 randomly picked balls?  \n",
        "Give your answer with nine digits after the decimal point (a.bcdefghij)."
      ],
      "metadata": {
        "id": "7_q62QEB9j9X"
      }
    },
    {
      "cell_type": "code",
      "execution_count": 2,
      "metadata": {
        "id": "Lemd9cAn1p0h",
        "colab": {
          "base_uri": "https://localhost:8080/"
        },
        "outputId": "60a3ef19-ddf2-4456-90dc-d19b7c702d86"
      },
      "outputs": [
        {
          "output_type": "stream",
          "name": "stdout",
          "text": [
            "0\n",
            "0.8695652173913043\n",
            "0.639386189258312\n",
            "0.3817230980646639\n",
            "0.17351049912030178\n",
            "0.053387845883169784\n",
            "0.008341850919245278\n",
            "-----\n",
            "6.430453922151445\n"
          ]
        }
      ],
      "source": [
        "import math as sym\n",
        "\n",
        "BALLS_NUMBER = 70\n",
        "COLOUR_NUMBER = 10\n",
        "SELECTED_BALLS_NUMBER = 20\n",
        "#expectedColourNumber = ?\n",
        "\n",
        "#display()\n",
        "\n",
        "\n",
        "p1 = 0\n",
        "\n",
        "# Nie prawidłowe równania.\n",
        "p2 = 70/70 * 60/69 # z max dwóch kolorów\n",
        "p3 = 70/70 * 60/69 * 50/68 # z max trzech\n",
        "p4 = 70/70 * 60/69 * 50/68 * 40/67\n",
        "p5 = 70/70 * 60/69 * 50/68 * 40/67 * 30/66\n",
        "p6 = 70/70 * 60/69 * 50/68 * 40/67 * 30/66 * 20/65\n",
        "p7 = 70/70 * 60/69 * 50/68 * 40/67 * 30/66 * 20/65 * 10/64\n",
        "\n",
        "expectedColourNumber = 1*p1 + 2*p2 + 3*p3 + 4*p4 + 5*p5 + 6*p6 + 7*p7\n",
        "\n",
        "print(p1)\n",
        "print(p2)\n",
        "print(p3)\n",
        "print(p4)\n",
        "print(p5)\n",
        "print(p6)\n",
        "print(p7)\n",
        "print(\"-----\")\n",
        "print(expectedColourNumber)\n"
      ]
    }
  ]
}