{
  "nbformat": 4,
  "nbformat_minor": 0,
  "metadata": {
    "colab": {
      "provenance": [],
      "authorship_tag": "ABX9TyN0QqpK2lU0SYp6DAzo/zpW",
      "include_colab_link": true
    },
    "kernelspec": {
      "name": "python3",
      "display_name": "Python 3"
    },
    "language_info": {
      "name": "python"
    }
  },
  "cells": [
    {
      "cell_type": "markdown",
      "metadata": {
        "id": "view-in-github",
        "colab_type": "text"
      },
      "source": [
        "<a href=\"https://colab.research.google.com/github/ArtRac/ProjectEuler/blob/493/493.ipynb\" target=\"_parent\"><img src=\"https://colab.research.google.com/assets/colab-badge.svg\" alt=\"Open In Colab\"/></a>"
      ]
    },
    {
      "cell_type": "markdown",
      "source": [
        "https://projecteuler.net/problem=493\n",
        "\n",
        "70 coloured balls are placed in an urn, 10 for each of the seven rainbow colours.  \n",
        "What is the expected number of distinct colours in 20 randomly picked balls?  \n",
        "Give your answer with nine digits after the decimal point (a.bcdefghij)."
      ],
      "metadata": {
        "id": "7_q62QEB9j9X"
      }
    },
    {
      "cell_type": "code",
      "execution_count": 21,
      "metadata": {
        "id": "Lemd9cAn1p0h",
        "colab": {
          "base_uri": "https://localhost:8080/"
        },
        "outputId": "92c44dfb-88a5-4de5-c571-da0975e7d742"
      },
      "outputs": [
        {
          "output_type": "stream",
          "name": "stdout",
          "text": [
            "0\n",
            "2.031045165656846e-82\n",
            "2.214394730192884e-68\n",
            "6.811457206483021e-53\n",
            "2.539041718802007e-36\n",
            "6.9465603596144825e-19\n",
            "1.0\n",
            "-----\n",
            "7.0\n"
          ]
        }
      ],
      "source": [
        "import math as sym\n",
        "\n",
        "BALLS_NUMBER = 70\n",
        "COLOUR_NUMBER = 10\n",
        "SELECTED_BALLS_NUMBER = 20\n",
        "#expectedColourNumber = ?\n",
        "\n",
        "#display()\n",
        "\n",
        "k = (sym.factorial(70)-sym.factorial(50))\n",
        "\n",
        "p1 = 0\n",
        "\n",
        "# Nie prawidłowe równania.\n",
        "p2 = sym.factorial(20)/k # z max dwóch kolorów\n",
        "p3 = (sym.factorial(30)-sym.factorial(10))/k # z max trzech\n",
        "p4 = (sym.factorial(40)-sym.factorial(20))/k # itd \n",
        "p5 = (sym.factorial(50)-sym.factorial(30))/k\n",
        "p6 = (sym.factorial(60)-sym.factorial(40))/k\n",
        "p7 = (sym.factorial(70)-sym.factorial(50))/k\n",
        "\n",
        "expectedColourNumber = 1*p1 + 2*p2 + 3*p3 + 4*p4 + 5*p5 + 6*p6 + 7*p7\n",
        "\n",
        "print(p1)\n",
        "print(p2)\n",
        "print(p3)\n",
        "print(p4)\n",
        "print(p5)\n",
        "print(p6)\n",
        "print(p7)\n",
        "print(\"-----\")\n",
        "print(expectedColourNumber)\n"
      ]
    }
  ]
}