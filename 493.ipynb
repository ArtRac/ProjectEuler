{
  "nbformat": 4,
  "nbformat_minor": 0,
  "metadata": {
    "colab": {
      "provenance": [],
      "authorship_tag": "ABX9TyOMALL8JoEKs8G5ikyM1rJE",
      "include_colab_link": true
    },
    "kernelspec": {
      "name": "python3",
      "display_name": "Python 3"
    },
    "language_info": {
      "name": "python"
    }
  },
  "cells": [
    {
      "cell_type": "markdown",
      "metadata": {
        "id": "view-in-github",
        "colab_type": "text"
      },
      "source": [
        "<a href=\"https://colab.research.google.com/github/ArtRac/ProjectEuler/blob/493/493.ipynb\" target=\"_parent\"><img src=\"https://colab.research.google.com/assets/colab-badge.svg\" alt=\"Open In Colab\"/></a>"
      ]
    },
    {
      "cell_type": "markdown",
      "source": [
        "https://projecteuler.net/problem=493\n",
        "\n",
        "70 coloured balls are placed in an urn, 10 for each of the seven rainbow colours.  \n",
        "What is the expected number of distinct colours in 20 randomly picked balls?  \n",
        "Give your answer with nine digits after the decimal point (a.bcdefghij)."
      ],
      "metadata": {
        "id": "7_q62QEB9j9X"
      }
    },
    {
      "cell_type": "code",
      "execution_count": null,
      "metadata": {
        "id": "Lemd9cAn1p0h"
      },
      "outputs": [],
      "source": [
        "BALLS_NUMBER = 70\n",
        "COLOUR_NUMBER = 10\n",
        "SELECTED_BALLS_NUMBER = 20\n",
        "#EXPECTED_COLOURS_NUMBER = ?\n"
      ]
    }
  ]
}