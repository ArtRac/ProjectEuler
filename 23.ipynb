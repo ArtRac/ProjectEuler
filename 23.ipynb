{
  "nbformat": 4,
  "nbformat_minor": 0,
  "metadata": {
    "colab": {
      "provenance": [],
      "authorship_tag": "ABX9TyOIiTZe1mAZ04Ze1434gpob",
      "include_colab_link": true
    },
    "kernelspec": {
      "name": "python3",
      "display_name": "Python 3"
    },
    "language_info": {
      "name": "python"
    }
  },
  "cells": [
    {
      "cell_type": "markdown",
      "metadata": {
        "id": "view-in-github",
        "colab_type": "text"
      },
      "source": [
        "<a href=\"https://colab.research.google.com/github/ArtRac/ProjectEuler/blob/23/23.ipynb\" target=\"_parent\"><img src=\"https://colab.research.google.com/assets/colab-badge.svg\" alt=\"Open In Colab\"/></a>"
      ]
    },
    {
      "cell_type": "markdown",
      "source": [
        "https://projecteuler.net/problem=23\n",
        "\n",
        "A perfect number is a number for which the sum of its proper divisors is exactly equal to the number. For example, the sum of the proper divisors of $28$ would be $1 + 2 + 4 + 7 + 14 = 28$, which means that $28$ is a perfect number.\n",
        "A number $n$ is called deficient if the sum of its proper divisors is less than $n$ and it is called abundant if this sum exceeds $n$.\n",
        "\n",
        "As $12$ is the smallest abundant number, $1 + 2 + 3 + 4 + 6 = 16$, the smallest number that can be written as the sum of two abundant numbers is $24$. By mathematical analysis, it can be shown that all integers greater than $28123$ can be written as the sum of two abundant numbers. However, this upper limit cannot be reduced any further by analysis even though it is known that the greatest number that cannot be expressed as the sum of two abundant numbers is less than this limit.\n",
        "Find the sum of all the positive integers which cannot be written as the sum of two abundant numbers."
      ],
      "metadata": {
        "id": "WzYrOiIrWJqW"
      }
    },
    {
      "cell_type": "code",
      "execution_count": 28,
      "metadata": {
        "id": "Zfs9mjbGWFkJ",
        "outputId": "35bb42d4-9fd0-4b65-8621-eae492d434c9",
        "colab": {
          "base_uri": "https://localhost:8080/"
        }
      },
      "outputs": [
        {
          "output_type": "stream",
          "name": "stdout",
          "text": [
            "4179871\n"
          ]
        }
      ],
      "source": [
        "import sympy as sp\n",
        "\n",
        "MAX_VALUE = 28123\n",
        "\n",
        "abundants = set()\n",
        "\n",
        "allNumbers = set([i for i in range(1, MAX_VALUE)])\n",
        "\n",
        "for n in range(12,MAX_VALUE-12):\n",
        "  divisors=sp.divisors(n)\n",
        "  if sum(divisors[:-1])>n:\n",
        "    abundants.add(n)\n",
        "\n",
        "sumOfTwoAbundants = set()\n",
        "\n",
        "for (abundant1,abundant2) in product(abundants, abundants):\n",
        "  sumOfAbundants = abundant1+abundant2\n",
        "  if sumOfAbundants <= MAX_VALUE:\n",
        "    sumOfTwoAbundants.add(sumOfAbundants)\n",
        "\n",
        "print(sum(allNumbers - sumOfTwoAbundants))"
      ]
    },
    {
      "cell_type": "markdown",
      "source": [
        "Wynik = 4179871"
      ],
      "metadata": {
        "id": "l46bfvljhl0e"
      }
    }
  ]
}