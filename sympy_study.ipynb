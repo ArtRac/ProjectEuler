{
  "metadata": {
    "kernelspec": {
      "language": "python",
      "display_name": "Python 3",
      "name": "python3"
    },
    "language_info": {
      "name": "python",
      "version": "3.10.10",
      "mimetype": "text/x-python",
      "codemirror_mode": {
        "name": "ipython",
        "version": 3
      },
      "pygments_lexer": "ipython3",
      "nbconvert_exporter": "python",
      "file_extension": ".py"
    },
    "colab": {
      "provenance": [],
      "include_colab_link": true
    }
  },
  "nbformat_minor": 0,
  "nbformat": 4,
  "cells": [
    {
      "cell_type": "markdown",
      "metadata": {
        "id": "view-in-github",
        "colab_type": "text"
      },
      "source": [
        "<a href=\"https://colab.research.google.com/github/ArtRac/ProjectEuler/blob/sympy-study/sympy_study.ipynb\" target=\"_parent\"><img src=\"https://colab.research.google.com/assets/colab-badge.svg\" alt=\"Open In Colab\"/></a>"
      ]
    },
    {
      "cell_type": "code",
      "source": [
        "import sympy as sym"
      ],
      "metadata": {
        "execution": {
          "iopub.status.busy": "2023-05-18T21:13:53.344784Z",
          "iopub.execute_input": "2023-05-18T21:13:53.345623Z",
          "iopub.status.idle": "2023-05-18T21:13:54.364086Z",
          "shell.execute_reply.started": "2023-05-18T21:13:53.345577Z",
          "shell.execute_reply": "2023-05-18T21:13:54.363042Z"
        },
        "trusted": true,
        "id": "WRHi3dbtAxt9"
      },
      "execution_count": 2,
      "outputs": []
    },
    {
      "cell_type": "code",
      "source": [
        "N=sym.oo\n",
        "x=sym.symbols(\"x\")\n",
        "p = sym.simplify(sym.Sum(1/x,(x,1,N)))\n",
        "display(p)"
      ],
      "metadata": {
        "execution": {
          "iopub.status.busy": "2023-05-18T21:13:54.369610Z",
          "iopub.execute_input": "2023-05-18T21:13:54.370556Z",
          "iopub.status.idle": "2023-05-18T21:13:54.817710Z",
          "shell.execute_reply.started": "2023-05-18T21:13:54.370509Z",
          "shell.execute_reply": "2023-05-18T21:13:54.816413Z"
        },
        "trusted": true,
        "id": "nhTvJ-3FAxuC",
        "outputId": "a316342d-5186-4615-99fb-518aed5ba5ed",
        "colab": {
          "base_uri": "https://localhost:8080/",
          "height": 66
        }
      },
      "execution_count": 4,
      "outputs": [
        {
          "output_type": "display_data",
          "data": {
            "text/plain": [
              "Sum(1/x, (x, 1, oo))"
            ],
            "text/latex": "$\\displaystyle \\sum_{x=1}^{\\infty} \\frac{1}{x}$"
          },
          "metadata": {}
        }
      ]
    },
    {
      "cell_type": "code",
      "source": [
        "N=sym.symbols(\"N\")\n",
        "x=sym.symbols(\"x\")\n",
        "p = sym.simplify(N*sym.Sum(1/x,(x,1,N)))\n",
        "p"
      ],
      "metadata": {
        "execution": {
          "iopub.status.busy": "2023-05-18T21:13:54.824661Z",
          "iopub.execute_input": "2023-05-18T21:13:54.825135Z",
          "iopub.status.idle": "2023-05-18T21:13:54.871055Z",
          "shell.execute_reply.started": "2023-05-18T21:13:54.825092Z",
          "shell.execute_reply": "2023-05-18T21:13:54.869655Z"
        },
        "trusted": true,
        "id": "m2yfJzZoAxuE",
        "outputId": "bba4cab9-2359-4714-c61a-aaa84acb46d2"
      },
      "execution_count": null,
      "outputs": [
        {
          "execution_count": 3,
          "output_type": "execute_result",
          "data": {
            "text/plain": "N*harmonic(N)",
            "text/latex": "$\\displaystyle N \\operatorname{harmonic}{\\left(N \\right)}$"
          },
          "metadata": {}
        }
      ]
    },
    {
      "cell_type": "markdown",
      "source": [
        "**lambdify** - oblicza wartość numeryczną funkcji\n",
        "\n",
        "**factor** - współczynnik  \n",
        "**diff** - pochodna, różniczka  \n",
        "**integrate** - całka  \n",
        "**limit** - granica  \n",
        "**solve** - rozwiąż równanie  \n",
        "**Eq** - równanie  \n",
        "**dsolve** - rozwiąż równanie różniczkowe"
      ],
      "metadata": {
        "id": "2KIP9eKYxvXZ"
      }
    },
    {
      "cell_type": "code",
      "source": [
        "x,y,n=sym.symbols(\"x,y,n\", integer=True)\n",
        "\n",
        "display(sym.Eq(1/n,1/x+1/y))\n",
        "print(\"factor\")\n",
        "display(sym.factor(sym.Eq(1/n,1/x+1/y)))\n",
        "print(\"simplify\")\n",
        "display(sym.simplify(sym.Eq(1/n,1/x+1/y)))\n",
        "print(\"expand\")\n",
        "display(sym.expand(sym.Eq(1/n,1/x+1/y)))\n",
        "print(\"together\")\n",
        "display(sym.together(sym.Eq(1/n,1/x+1/y)))\n"
      ],
      "metadata": {
        "execution": {
          "iopub.status.busy": "2023-05-18T21:13:54.872799Z",
          "iopub.execute_input": "2023-05-18T21:13:54.873251Z",
          "iopub.status.idle": "2023-05-18T21:13:55.067302Z",
          "shell.execute_reply.started": "2023-05-18T21:13:54.873206Z",
          "shell.execute_reply": "2023-05-18T21:13:55.066147Z"
        },
        "trusted": true,
        "id": "PmZsL6gxAxuH",
        "outputId": "0b751350-0c50-424f-88b7-9f36bfa56fc6",
        "colab": {
          "base_uri": "https://localhost:8080/",
          "height": 274
        }
      },
      "execution_count": null,
      "outputs": [
        {
          "output_type": "display_data",
          "data": {
            "text/plain": [
              "Eq(1/n, 1/y + 1/x)"
            ],
            "text/latex": "$\\displaystyle \\frac{1}{n} = \\frac{1}{y} + \\frac{1}{x}$"
          },
          "metadata": {}
        },
        {
          "output_type": "stream",
          "name": "stdout",
          "text": [
            "factor\n"
          ]
        },
        {
          "output_type": "display_data",
          "data": {
            "text/plain": [
              "Eq(1/n, (x + y)/(x*y))"
            ],
            "text/latex": "$\\displaystyle \\frac{1}{n} = \\frac{x + y}{x y}$"
          },
          "metadata": {}
        },
        {
          "output_type": "stream",
          "name": "stdout",
          "text": [
            "simplify\n"
          ]
        },
        {
          "output_type": "display_data",
          "data": {
            "text/plain": [
              "Eq(1/n, (x + y)/(x*y))"
            ],
            "text/latex": "$\\displaystyle \\frac{1}{n} = \\frac{x + y}{x y}$"
          },
          "metadata": {}
        },
        {
          "output_type": "stream",
          "name": "stdout",
          "text": [
            "expand\n"
          ]
        },
        {
          "output_type": "display_data",
          "data": {
            "text/plain": [
              "Eq(1/n, 1/y + 1/x)"
            ],
            "text/latex": "$\\displaystyle \\frac{1}{n} = \\frac{1}{y} + \\frac{1}{x}$"
          },
          "metadata": {}
        },
        {
          "output_type": "stream",
          "name": "stdout",
          "text": [
            "together\n"
          ]
        },
        {
          "output_type": "display_data",
          "data": {
            "text/plain": [
              "Eq(1/n, (x + y)/(x*y))"
            ],
            "text/latex": "$\\displaystyle \\frac{1}{n} = \\frac{x + y}{x y}$"
          },
          "metadata": {}
        }
      ]
    },
    {
      "cell_type": "code",
      "source": [
        "sym.solveset(sym.Eq(1/n,1/x+1/y),n,domain=sym.Integers)"
      ],
      "metadata": {
        "execution": {
          "iopub.status.busy": "2023-05-18T21:13:55.068779Z",
          "iopub.execute_input": "2023-05-18T21:13:55.069874Z",
          "iopub.status.idle": "2023-05-18T21:13:55.117910Z",
          "shell.execute_reply.started": "2023-05-18T21:13:55.069831Z",
          "shell.execute_reply": "2023-05-18T21:13:55.116774Z"
        },
        "trusted": true,
        "id": "O0O7shhQAxuK",
        "outputId": "1fe01580-6b70-4ff1-c3c9-c0885ecd2288"
      },
      "execution_count": null,
      "outputs": [
        {
          "execution_count": 5,
          "output_type": "execute_result",
          "data": {
            "text/plain": "Intersection({1/(1/y + 1/x)}, Integers)",
            "text/latex": "$\\displaystyle \\mathbb{Z} \\cap \\left\\{\\frac{1}{\\frac{1}{y} + \\frac{1}{x}}\\right\\}$"
          },
          "metadata": {}
        }
      ]
    }
  ]
}