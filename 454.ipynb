{
  "nbformat": 4,
  "nbformat_minor": 0,
  "metadata": {
    "colab": {
      "provenance": [],
      "authorship_tag": "ABX9TyOzwH7VbbUl4DCKmsnb/Emz",
      "include_colab_link": true
    },
    "kernelspec": {
      "name": "python3",
      "display_name": "Python 3"
    },
    "language_info": {
      "name": "python"
    }
  },
  "cells": [
    {
      "cell_type": "markdown",
      "metadata": {
        "id": "view-in-github",
        "colab_type": "text"
      },
      "source": [
        "<a href=\"https://colab.research.google.com/github/ArtRac/ProjectEuler/blob/454/454.ipynb\" target=\"_parent\"><img src=\"https://colab.research.google.com/assets/colab-badge.svg\" alt=\"Open In Colab\"/></a>"
      ]
    },
    {
      "cell_type": "markdown",
      "source": [
        "[454](https://projecteuler.net/problem=454)\n",
        "\n",
        "<p>In the following equation $x$, $y$, and $n$ are positive integers.</p>\n",
        "$$\\dfrac{1}{x} + \\dfrac{1}{y} = \\dfrac{1}{n}$$\n",
        "<p>For a limit $L$ we define $F(L)$ as the number of solutions which satisfy $x \\lt y \\le L$.</p>\n",
        "\n",
        "<p>We can verify that $F(15) = 4$ and $F(1000) = 1069$.<br>\n",
        "Find $F(10^{12})$.</p>"
      ],
      "metadata": {
        "id": "1wjIxFJCXvgv"
      }
    },
    {
      "cell_type": "code",
      "execution_count": null,
      "metadata": {
        "id": "M52weAhDXpUm"
      },
      "outputs": [],
      "source": []
    }
  ]
}