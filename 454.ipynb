{
  "nbformat": 4,
  "nbformat_minor": 0,
  "metadata": {
    "colab": {
      "provenance": [],
      "authorship_tag": "ABX9TyPLyTZBOxd9XAE1gOoyVIxH",
      "include_colab_link": true
    },
    "kernelspec": {
      "name": "python3",
      "display_name": "Python 3"
    },
    "language_info": {
      "name": "python"
    }
  },
  "cells": [
    {
      "cell_type": "markdown",
      "metadata": {
        "id": "view-in-github",
        "colab_type": "text"
      },
      "source": [
        "<a href=\"https://colab.research.google.com/github/ArtRac/ProjectEuler/blob/454/454.ipynb\" target=\"_parent\"><img src=\"https://colab.research.google.com/assets/colab-badge.svg\" alt=\"Open In Colab\"/></a>"
      ]
    },
    {
      "cell_type": "markdown",
      "source": [
        "[454](https://projecteuler.net/problem=454)\n",
        "\n",
        "<p>In the following equation $x$, $y$, and $n$ are positive integers.</p>\n",
        "$$\\dfrac{1}{x} + \\dfrac{1}{y} = \\dfrac{1}{n}$$\n",
        "<p>For a limit $L$ we define $F(L)$ as the number of solutions which satisfy $x \\lt y \\le L$.</p>\n",
        "\n",
        "<p>We can verify that $F(15) = 4$ and $F(1000) = 1069$.<br>\n",
        "Find $F(10^{12})$.</p>"
      ],
      "metadata": {
        "id": "1wjIxFJCXvgv"
      }
    },
    {
      "cell_type": "markdown",
      "source": [
        "```haskell\n",
        "Zwraca prawidłowe wyniki.\n",
        "sum [1|y<-[2..1000],x<-[1..y-1],mod (x*y) (x+y) == 0]\n",
        "```"
      ],
      "metadata": {
        "id": "Jv6y-tgdgVoB"
      }
    },
    {
      "cell_type": "code",
      "execution_count": 3,
      "metadata": {
        "id": "M52weAhDXpUm",
        "colab": {
          "base_uri": "https://localhost:8080/"
        },
        "outputId": "06ada211-d173-4f97-d67c-ed3ec36b3277"
      },
      "outputs": [
        {
          "output_type": "stream",
          "name": "stdout",
          "text": [
            "Answer=1069\n"
          ]
        }
      ],
      "source": [
        "answer=0\n",
        "L=1000\n",
        "y1=0\n",
        "\n",
        "for n in range(1,L+1):\n",
        "    x = n+1\n",
        "    while True:\n",
        "        a = n*x\n",
        "        b = x-n\n",
        "        y1 = a//b\n",
        "        y2 = a % b\n",
        "        #print(\"? n={} x={} y1={} y2={}\".format(n,x,y1,y2))\n",
        "        if x >= y1:\n",
        "            break\n",
        "        if y1<=L and y2 == 0:\n",
        "            answer += 1\n",
        "            #print(\"     ! n={} x={} y1={} y2={}\".format(n,x,y1,y2))\n",
        "        x += 1\n",
        "\n",
        "print(\"Answer={}\".format(answer))"
      ]
    }
  ]
}