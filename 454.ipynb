{
  "nbformat": 4,
  "nbformat_minor": 0,
  "metadata": {
    "colab": {
      "provenance": [],
      "authorship_tag": "ABX9TyPaTA5ffiTd2JgsKOcC8/PB",
      "include_colab_link": true
    },
    "kernelspec": {
      "name": "python3",
      "display_name": "Python 3"
    },
    "language_info": {
      "name": "python"
    }
  },
  "cells": [
    {
      "cell_type": "markdown",
      "metadata": {
        "id": "view-in-github",
        "colab_type": "text"
      },
      "source": [
        "<a href=\"https://colab.research.google.com/github/ArtRac/ProjectEuler/blob/454/454.ipynb\" target=\"_parent\"><img src=\"https://colab.research.google.com/assets/colab-badge.svg\" alt=\"Open In Colab\"/></a>"
      ]
    },
    {
      "cell_type": "markdown",
      "source": [
        "[454](https://projecteuler.net/problem=454)\n",
        "\n",
        "<p>In the following equation $x$, $y$, and $n$ are positive integers.</p>\n",
        "$$\\dfrac{1}{x} + \\dfrac{1}{y} = \\dfrac{1}{n}$$\n",
        "<p>For a limit $L$ we define $F(L)$ as the number of solutions which satisfy $x \\lt y \\le L$.</p>\n",
        "\n",
        "<p>We can verify that $F(15) = 4$ and $F(1000) = 1069$.<br>\n",
        "Find $F(10^{12})$.</p>"
      ],
      "metadata": {
        "id": "1wjIxFJCXvgv"
      }
    },
    {
      "cell_type": "markdown",
      "source": [
        "```haskell\n",
        "Zwraca prawidłowe wyniki.\n",
        "sum [1|y<-[2..1000],x<-[1..y-1],mod (x*y) (x+y) == 0]\n",
        "```"
      ],
      "metadata": {
        "id": "Jv6y-tgdgVoB"
      }
    },
    {
      "cell_type": "code",
      "execution_count": null,
      "metadata": {
        "id": "M52weAhDXpUm"
      },
      "outputs": [],
      "source": [
        "i=1\n",
        "limit=15\n",
        "y1=0\n",
        "\n",
        "for n in range(1,limit):\n",
        "  if y1 > limit:\n",
        "     print(i)\n",
        "     break\n",
        "  x = n+1\n",
        "  while True:\n",
        "    a = n*x\n",
        "    b = x-n\n",
        "    y1 = a//b\n",
        "    if y1 > limit:\n",
        "      print(i)\n",
        "      break\n",
        "    y2 = a % b\n",
        "    if y1 < 2:\n",
        "      break\n",
        "    if y2 == 0:\n",
        "      i += 1\n",
        "    print(\"n={} x={} y1={} y2={}\".format(n,x,y1,y2))\n",
        "    x += 1\n",
        "\n",
        "y = 2*1000/(1000-2)"
      ]
    }
  ]
}