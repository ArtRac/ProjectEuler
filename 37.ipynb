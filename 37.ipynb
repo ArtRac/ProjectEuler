{
  "nbformat": 4,
  "nbformat_minor": 0,
  "metadata": {
    "colab": {
      "provenance": [],
      "authorship_tag": "ABX9TyOU69/jxHuR8rc3LrzIjfB/",
      "include_colab_link": true
    },
    "kernelspec": {
      "name": "python3",
      "display_name": "Python 3"
    },
    "language_info": {
      "name": "python"
    }
  },
  "cells": [
    {
      "cell_type": "markdown",
      "metadata": {
        "id": "view-in-github",
        "colab_type": "text"
      },
      "source": [
        "<a href=\"https://colab.research.google.com/github/ArtRac/ProjectEuler/blob/37/37.ipynb\" target=\"_parent\"><img src=\"https://colab.research.google.com/assets/colab-badge.svg\" alt=\"Open In Colab\"/></a>"
      ]
    },
    {
      "cell_type": "markdown",
      "source": [
        "[37](https://projecteuler.net/problem=37)\n",
        "\n",
        "<p>The number $3797$ has an interesting property. Being prime itself, it is possible to continuously remove digits from left to right, and remain prime at each stage: $3797$, $797$, $97$, and $7$. Similarly we can work from right to left: $3797$, $379$, $37$, and $3$.</p>\n",
        "<p>Find the sum of the only eleven primes that are both truncatable from left to right and right to left.</p>\n",
        "<p class=\"smaller\">NOTE: $2$, $3$, $5$, and $7$ are not considered to be truncatable primes.</p>\n",
        "\n"
      ],
      "metadata": {
        "id": "Yp4RSSb1lRvd"
      }
    },
    {
      "cell_type": "markdown",
      "source": [
        "Szablon szukanej liczby:\n",
        "[2357][1379]*[2357]"
      ],
      "metadata": {
        "id": "nbGe6tIqpoWq"
      }
    },
    {
      "cell_type": "code",
      "execution_count": null,
      "metadata": {
        "id": "SPDH63Z1lE6Z"
      },
      "outputs": [],
      "source": []
    }
  ]
}