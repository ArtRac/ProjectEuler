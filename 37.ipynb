{
  "nbformat": 4,
  "nbformat_minor": 0,
  "metadata": {
    "colab": {
      "provenance": [],
      "authorship_tag": "ABX9TyPHP2pMZzQyULKl3GVr/ge8",
      "include_colab_link": true
    },
    "kernelspec": {
      "name": "python3",
      "display_name": "Python 3"
    },
    "language_info": {
      "name": "python"
    }
  },
  "cells": [
    {
      "cell_type": "markdown",
      "metadata": {
        "id": "view-in-github",
        "colab_type": "text"
      },
      "source": [
        "<a href=\"https://colab.research.google.com/github/ArtRac/ProjectEuler/blob/37/37.ipynb\" target=\"_parent\"><img src=\"https://colab.research.google.com/assets/colab-badge.svg\" alt=\"Open In Colab\"/></a>"
      ]
    },
    {
      "cell_type": "markdown",
      "source": [
        "[37](https://projecteuler.net/problem=37)\n",
        "\n",
        "<p>The number $3797$ has an interesting property. Being prime itself, it is possible to continuously remove digits from left to right, and remain prime at each stage: $3797$, $797$, $97$, and $7$. Similarly we can work from right to left: $3797$, $379$, $37$, and $3$.</p>\n",
        "<p>Find the sum of the only eleven primes that are both truncatable from left to right and right to left.</p>\n",
        "<p class=\"smaller\">NOTE: $2$, $3$, $5$, and $7$ are not considered to be truncatable primes.</p>\n",
        "\n"
      ],
      "metadata": {
        "id": "Yp4RSSb1lRvd"
      }
    },
    {
      "cell_type": "markdown",
      "source": [
        "Szablon szukanej liczby:\n",
        "[2357][1379]*[2357]"
      ],
      "metadata": {
        "id": "nbGe6tIqpoWq"
      }
    },
    {
      "cell_type": "code",
      "execution_count": null,
      "metadata": {
        "id": "SPDH63Z1lE6Z"
      },
      "outputs": [],
      "source": [
        "from itertools import product\n",
        "\n",
        "begin_numbers = end_numbers = [2, 3, 5, 7]\n",
        "middle_numbers = [1,3,7,9]\n",
        "\n",
        "for length in [0,1,2,3,4]:\n",
        "  for begin in list(product(begin_numbers, repeat=1)):\n",
        "    for end in list(product(end_numbers, repeat=1)):\n",
        "      for middle in list(product(middle_numbers, repeat=length)):\n",
        "        print(begin + middle + end)\n"
      ]
    }
  ]
}