{
  "nbformat": 4,
  "nbformat_minor": 0,
  "metadata": {
    "colab": {
      "provenance": [],
      "authorship_tag": "ABX9TyORw23PM7YcrdwvUY1AKgJt",
      "include_colab_link": true
    },
    "kernelspec": {
      "name": "python3",
      "display_name": "Python 3"
    },
    "language_info": {
      "name": "python"
    }
  },
  "cells": [
    {
      "cell_type": "markdown",
      "metadata": {
        "id": "view-in-github",
        "colab_type": "text"
      },
      "source": [
        "<a href=\"https://colab.research.google.com/github/ArtRac/ProjectEuler/blob/37/37.ipynb\" target=\"_parent\"><img src=\"https://colab.research.google.com/assets/colab-badge.svg\" alt=\"Open In Colab\"/></a>"
      ]
    },
    {
      "cell_type": "markdown",
      "source": [
        "[37](https://projecteuler.net/problem=37)\n",
        "\n",
        "<p>The number $3797$ has an interesting property. Being prime itself, it is possible to continuously remove digits from left to right, and remain prime at each stage: $3797$, $797$, $97$, and $7$. Similarly we can work from right to left: $3797$, $379$, $37$, and $3$.</p>\n",
        "<p>Find the sum of the only eleven primes that are both truncatable from left to right and right to left.</p>\n",
        "<p class=\"smaller\">NOTE: $2$, $3$, $5$, and $7$ are not considered to be truncatable primes.</p>\n",
        "\n"
      ],
      "metadata": {
        "id": "Yp4RSSb1lRvd"
      }
    },
    {
      "cell_type": "markdown",
      "source": [
        "Szablon szukanej liczby:\n",
        "[2357][1379]*[2357]"
      ],
      "metadata": {
        "id": "nbGe6tIqpoWq"
      }
    },
    {
      "cell_type": "code",
      "execution_count": 26,
      "metadata": {
        "id": "SPDH63Z1lE6Z",
        "outputId": "e0a4bc53-1c0e-4cc7-d62b-36c3c3c13c61",
        "colab": {
          "base_uri": "https://localhost:8080/"
        }
      },
      "outputs": [
        {
          "output_type": "stream",
          "name": "stdout",
          "text": [
            "Sum=748317\n"
          ]
        }
      ],
      "source": [
        "from itertools import product\n",
        "import numpy as np\n",
        "import sympy as sp\n",
        "\n",
        "begin_numbers = end_numbers = [2, 3, 5, 7]\n",
        "middle_numbers = [1,3,7,9]\n",
        "resultSum = 0\n",
        "\n",
        "for length in [0,1,2,3,4]:\n",
        "  for begin in list(product(begin_numbers, repeat=1)):\n",
        "    for end in list(product(end_numbers, repeat=1)):\n",
        "      for middle in list(product(middle_numbers, repeat=length)):\n",
        "        result = 0\n",
        "        isPrime = True\n",
        "        for intValue in (begin + middle + end):\n",
        "          result = 10*result + intValue\n",
        "          if not sp.isprime(result):\n",
        "            isPrime=False\n",
        "            break\n",
        "        if isPrime:\n",
        "          i = 1\n",
        "          while result / (10**i) > 0:\n",
        "            if not sp.isprime(result % (10**i)):\n",
        "              isPrime=False\n",
        "              break\n",
        "            i+=1\n",
        "        if isPrime:\n",
        "          resultSum+=result\n",
        "print('Sum='+str(resultSum))\n"
      ]
    },
    {
      "cell_type": "code",
      "source": [
        "10**2"
      ],
      "metadata": {
        "id": "aOOTrosLhQdf",
        "outputId": "73f198d0-7403-4c6a-adba-1adba49bafd8",
        "colab": {
          "base_uri": "https://localhost:8080/"
        }
      },
      "execution_count": 22,
      "outputs": [
        {
          "output_type": "execute_result",
          "data": {
            "text/plain": [
              "100"
            ]
          },
          "metadata": {},
          "execution_count": 22
        }
      ]
    }
  ]
}